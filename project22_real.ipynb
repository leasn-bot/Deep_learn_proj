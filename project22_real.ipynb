{
 "cells": [
  {
   "cell_type": "markdown",
   "metadata": {},
   "source": [
    "Project 22"
   ]
  },
  {
   "cell_type": "code",
   "execution_count": null,
   "metadata": {},
   "outputs": [
    {
     "ename": "AttributeError",
     "evalue": "'str' object has no attribute 'iterdir'",
     "output_type": "error",
     "traceback": [
      "\u001b[1;31m---------------------------------------------------------------------------\u001b[0m",
      "\u001b[1;31mAttributeError\u001b[0m                            Traceback (most recent call last)",
      "Cell \u001b[1;32mIn[8], line 18\u001b[0m\n\u001b[0;32m     15\u001b[0m file_data \u001b[38;5;241m=\u001b[39m []\n\u001b[0;32m     17\u001b[0m \u001b[38;5;66;03m# Iterate through each dye_cell_well_locations folder\u001b[39;00m\n\u001b[1;32m---> 18\u001b[0m \u001b[38;5;28;01mfor\u001b[39;00m location_folder \u001b[38;5;129;01min\u001b[39;00m data_dir\u001b[38;5;241m.\u001b[39miterdir():\n\u001b[0;32m     19\u001b[0m     \u001b[38;5;28;01mif\u001b[39;00m location_folder\u001b[38;5;241m.\u001b[39mis_dir():  \u001b[38;5;66;03m# Only process folders\u001b[39;00m\n\u001b[0;32m     20\u001b[0m         \u001b[38;5;28;01mfor\u001b[39;00m file_path \u001b[38;5;129;01min\u001b[39;00m location_folder\u001b[38;5;241m.\u001b[39mglob(\u001b[38;5;124m\"\u001b[39m\u001b[38;5;124m*.tiff\u001b[39m\u001b[38;5;124m\"\u001b[39m):\n",
      "\u001b[1;31mAttributeError\u001b[0m: 'str' object has no attribute 'iterdir'"
     ]
    }
   ],
   "source": [
    "# data load and sorting\n",
    "import os\n",
    "import re\n",
    "import pandas as pd\n",
    "from pathlib import Path\n",
    "import shutil\n",
    "\n",
    "# different stuff\n",
    "\n",
    "# Define the root path to your data folder structure\n",
    "data_dir = \"/data/brightfield/\"\n",
    "\n",
    "# Define regex to capture sample, z-position, and channel from filenames\n",
    "pattern = re.compile(r\"s(\\d{3})z(\\d{2})c(\\d)_ORG\\.tiff$\")\n",
    "\n",
    "from PIL import Image\n",
    "import matplotlib.pyplot as plt\n",
    "\n",
    "# Open the TIFF file\n",
    "tiff_image = Image.open(\"path_to_your_image.tiff\")\n",
    "\n",
    "# Iterate through the pages\n",
    "for i in range(tiff_image.n_frames):\n",
    "    tiff_image.seek(i)  # Go to the i-th frame\n",
    "    plt.imshow(tiff_image, cmap=\"gray\")\n",
    "    plt.title(f\"Page {i}\")\n",
    "    plt.axis(\"off\")\n",
    "    plt.show()\n",
    "\n"
   ]
  },
  {
   "cell_type": "code",
   "execution_count": null,
   "metadata": {},
   "outputs": [
    {
     "name": "stdout",
     "output_type": "stream",
     "text": [
      "Net(\n",
      "  (conv1): Conv2d(11, 6, kernel_size=(3, 3), stride=(1, 1))\n",
      "  (relu1): ReLU()\n",
      "  (conv2): Conv2d(6, 1, kernel_size=(3, 3), stride=(1, 1))\n",
      "  (relu2): ReLU()\n",
      "  (pool): MaxPool2d(kernel_size=2, stride=2, padding=0, dilation=1, ceil_mode=False)\n",
      ")\n"
     ]
    }
   ],
   "source": [
    "# start of U-net model\n",
    "\n",
    "# import libraries\n",
    "import numpy as np\n",
    "import torch\n",
    "import torch.nn as nn\n",
    "import torch.nn.functional as F\n",
    "\n",
    "# create model as a class using pytorch\n",
    "# 11 channel input, one channel output\n",
    "class Net(nn.Module):\n",
    "    def __init__(self):\n",
    "        super(Net, self).__init__()\n",
    "        # two 3x3 convolutions (unpadded convolutions)\n",
    "        self.conv1 = nn.Conv2d(11, 6, 3)\n",
    "        # ReLU activation function\n",
    "        self.relu1 = nn.ReLU()\n",
    "        self.conv2 = nn.Conv2d(6, 1, 3)\n",
    "        self.relu2 = nn.ReLU()\n",
    "        # max pooling\n",
    "        # 2x2 max pooling operation with stride 2 for downsampling\n",
    "        self.pool = nn.MaxPool2d(2, 2)\n",
    "        \n",
    "        \n",
    "\n",
    "# create model\n",
    "net = Net()\n",
    "print(net)\n"
   ]
  },
  {
   "cell_type": "code",
   "execution_count": null,
   "metadata": {},
   "outputs": [
    {
     "ename": "ModuleNotFoundError",
     "evalue": "No module named 'data_utils'",
     "output_type": "error",
     "traceback": [
      "\u001b[1;31m---------------------------------------------------------------------------\u001b[0m",
      "\u001b[1;31mModuleNotFoundError\u001b[0m                       Traceback (most recent call last)",
      "Cell \u001b[1;32mIn[2], line 12\u001b[0m\n\u001b[0;32m      9\u001b[0m \u001b[38;5;28;01mfrom\u001b[39;00m \u001b[38;5;21;01mskimage\u001b[39;00m\u001b[38;5;21;01m.\u001b[39;00m\u001b[38;5;21;01mio\u001b[39;00m \u001b[38;5;28;01mimport\u001b[39;00m imread\n\u001b[0;32m     10\u001b[0m \u001b[38;5;28;01mfrom\u001b[39;00m \u001b[38;5;21;01mskimage\u001b[39;00m\u001b[38;5;21;01m.\u001b[39;00m\u001b[38;5;21;01mtransform\u001b[39;00m \u001b[38;5;28;01mimport\u001b[39;00m resize\n\u001b[1;32m---> 12\u001b[0m \u001b[38;5;28;01mimport\u001b[39;00m \u001b[38;5;21;01mdata_utils\u001b[39;00m\n\u001b[0;32m     14\u001b[0m \u001b[38;5;66;03m#import sys\u001b[39;00m\n\u001b[0;32m     15\u001b[0m \u001b[38;5;66;03m#sys.path.append(os.path.join('.', '..')) # Allow us to import shared custom\u001b[39;00m\n\u001b[0;32m     16\u001b[0m \u001b[38;5;66;03m#                                         # libraries, like utils.py\u001b[39;00m\n\u001b[0;32m     18\u001b[0m path \u001b[38;5;241m=\u001b[39m \u001b[38;5;124m'\u001b[39m\u001b[38;5;124mdata/\u001b[39m\u001b[38;5;124m'\u001b[39m\n",
      "\u001b[1;31mModuleNotFoundError\u001b[0m: No module named 'data_utils'"
     ]
    }
   ],
   "source": [
    "## leaf classification\n",
    "import matplotlib\n",
    "import numpy as np\n",
    "import pandas as pd\n",
    "import matplotlib.pyplot as plt\n",
    "import glob\n",
    "import os\n",
    "\n",
    "from IPython.display import clear_output\n",
    "from skimage.io import imread\n",
    "from skimage.transform import resize\n",
    "\n",
    "import data_utils\n",
    "\n",
    "#import sys\n",
    "#sys.path.append(os.path.join('.', '..')) # Allow us to import shared custom\n",
    "#                                         # libraries, like utils.py\n",
    "\n",
    "path = 'data/'\n",
    "\n",
    "image_paths = glob.glob(path+'images/*.jpg')\n",
    "print(\"Total Observations:\\t\", len(image_paths))\n",
    "\n",
    "# now loading the train.csv to find features for each training point\n",
    "train = pd.read_csv(path + 'train.csv')\n",
    "train_images = [path+'images/{}.jpg'.format(i) for i in train.id.values]\n",
    "\n",
    "# now loading the test.csv\n",
    "test = pd.read_csv(path + 'test.csv')\n",
    "\n",
    "# First we find an example of each species in order to visualize it\n",
    "species = np.array(sorted(train.species.unique()))\n",
    "species_examples = [np.random.choice(train[train.species == s].id.values) for s in species]\n",
    "\n",
    "# Then we gather its index in our list of images in order to find the correct image\n",
    "indexes = [image_paths.index(path + 'images/{}.jpg'.format(i)) for i in species_examples]\n",
    "\n",
    "# Display the first image\n",
    "plt.figure(figsize=(8, 8))\n",
    "image = imread(image_paths[indexes[0]], as_gray=True)\n",
    "plt.imshow(image, cmap='gray')\n",
    "plt.title(\"%s\" % (species[0]))\n",
    "plt.axis('off')\n",
    "plt.show()\n",
    "\n",
    "# Now plot 1 image from each category\n",
    "\n",
    "# Number of species\n",
    "num_species = len(species)\n",
    "\n",
    "# Rows and columns for the subplot grid\n",
    "rows = int(np.ceil(num_species / 10))\n",
    "cols = min(10, num_species)  # Ensure at least 10 columns\n",
    "\n",
    "# Figure for the subplots\n",
    "plt.figure(figsize=(30, rows * 3))\n",
    "\n",
    "# Extracting one image of each species\n",
    "for i, (species_name, image_idx) in enumerate(zip(species, indexes)):\n",
    "    image = imread(image_paths[image_idx], as_gray=True)\n",
    "    # Subplot for image\n",
    "    plt.subplot(rows, cols, i + 1)\n",
    "    plt.imshow(image, cmap='gray')\n",
    "    plt.title(species_name, fontsize=10)\n",
    "    plt.axis('off')\n",
    "\n",
    "plt.tight_layout()\n",
    "plt.show()"
   ]
  }
 ],
 "metadata": {
  "kernelspec": {
   "display_name": "base",
   "language": "python",
   "name": "python3"
  },
  "language_info": {
   "codemirror_mode": {
    "name": "ipython",
    "version": 3
   },
   "file_extension": ".py",
   "mimetype": "text/x-python",
   "name": "python",
   "nbconvert_exporter": "python",
   "pygments_lexer": "ipython3",
   "version": "3.11.5"
  }
 },
 "nbformat": 4,
 "nbformat_minor": 2
}
